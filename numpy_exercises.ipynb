{
 "cells": [
  {
   "cell_type": "code",
   "execution_count": 15,
   "id": "297afb83",
   "metadata": {},
   "outputs": [],
   "source": [
    "import numpy as np"
   ]
  },
  {
   "cell_type": "code",
   "execution_count": 16,
   "id": "b78a55c7",
   "metadata": {},
   "outputs": [],
   "source": [
    "a = np.array([4, 10, 12, 23, -2, -1, 0, 0, 0, -6, 3, -7])\n"
   ]
  },
  {
   "cell_type": "code",
   "execution_count": null,
   "id": "a7fc3823",
   "metadata": {},
   "outputs": [],
   "source": [
    "# How many negative numbers are there?\n",
    "a[(a < 0)]\n"
   ]
  },
  {
   "cell_type": "code",
   "execution_count": null,
   "id": "b3965cae",
   "metadata": {},
   "outputs": [],
   "source": [
    "len(a[(a < 0)])   # 4 negative numbers"
   ]
  },
  {
   "cell_type": "code",
   "execution_count": null,
   "id": "d29cb1fa",
   "metadata": {},
   "outputs": [],
   "source": [
    "# How many positive numbers are there?\n",
    "\n",
    "a[(a > 0)]"
   ]
  },
  {
   "cell_type": "code",
   "execution_count": null,
   "id": "be7fe83c",
   "metadata": {},
   "outputs": [],
   "source": [
    "# How many even positive numbers are there?\n",
    "\n",
    "len(a[(a > 0)]) "
   ]
  },
  {
   "cell_type": "code",
   "execution_count": null,
   "id": "ec41b1c0",
   "metadata": {},
   "outputs": [],
   "source": [
    "# If you were to add 3 to each data point, how many positive numbers would there be?\n",
    "\n",
    "new_number = a + 3"
   ]
  },
  {
   "cell_type": "code",
   "execution_count": null,
   "id": "a318f07c",
   "metadata": {},
   "outputs": [],
   "source": [
    "new_number"
   ]
  },
  {
   "cell_type": "code",
   "execution_count": null,
   "id": "8e72da6f",
   "metadata": {},
   "outputs": [],
   "source": [
    "len(a[a > 0])"
   ]
  },
  {
   "cell_type": "code",
   "execution_count": null,
   "id": "aade0a62",
   "metadata": {},
   "outputs": [],
   "source": [
    "# If you squared each number, what would the new mean and standard deviation \n",
    "squared = a ** 2"
   ]
  },
  {
   "cell_type": "code",
   "execution_count": null,
   "id": "f3f1bb52",
   "metadata": {},
   "outputs": [],
   "source": [
    "# new mean and standard deviation respectively\n",
    "np.mean(squared), np.std(squared)"
   ]
  },
  {
   "cell_type": "code",
   "execution_count": null,
   "id": "faaa426e",
   "metadata": {},
   "outputs": [],
   "source": [
    "a"
   ]
  },
  {
   "cell_type": "code",
   "execution_count": null,
   "id": "8b1b21d4",
   "metadata": {},
   "outputs": [],
   "source": [
    "# this is the mean and standard deviation for original array\n",
    "np.mean(a), np.std(a)"
   ]
  },
  {
   "cell_type": "code",
   "execution_count": null,
   "id": "f5819f9c",
   "metadata": {},
   "outputs": [],
   "source": [
    "# A common statistical operation on a dataset is centering. \n",
    "# This means to adjust the data such that the mean of the data is 0. \n",
    "# This is done by subtracting the mean from each data point. Center the data set\n",
    "a"
   ]
  },
  {
   "cell_type": "code",
   "execution_count": null,
   "id": "9cdde712",
   "metadata": {},
   "outputs": [],
   "source": [
    "[a - np.mean(a)]"
   ]
  },
  {
   "cell_type": "code",
   "execution_count": null,
   "id": "a9b11e5b",
   "metadata": {},
   "outputs": [],
   "source": [
    "#Calculate the z-score for each data point. Recall that the z-score is given by:\n",
    "\n",
    "z_score = [(a -np.mean(a))/ np.std(a)]"
   ]
  },
  {
   "cell_type": "code",
   "execution_count": null,
   "id": "a7939157",
   "metadata": {},
   "outputs": [],
   "source": [
    "z_score"
   ]
  },
  {
   "cell_type": "code",
   "execution_count": 65,
   "id": "c20018cc",
   "metadata": {},
   "outputs": [],
   "source": [
    "#Copy the setup and exercise directions from More Numpy Practice into your numpy_exercises.py \n",
    "#and add your solutions.\n",
    "\n",
    "\n",
    "\n",
    "import numpy as np\n"
   ]
  },
  {
   "cell_type": "code",
   "execution_count": 66,
   "id": "eeea70f9",
   "metadata": {},
   "outputs": [],
   "source": [
    "a = np.array ([1, 2, 3, 4, 5, 6, 7, 8, 9, 10])"
   ]
  },
  {
   "cell_type": "code",
   "execution_count": 81,
   "id": "ed822ec4",
   "metadata": {},
   "outputs": [
    {
     "name": "stdout",
     "output_type": "stream",
     "text": [
      "55\n"
     ]
    }
   ],
   "source": [
    "# Exercise 1 - Make a variable called sum_of_a to hold the sum of all the numbers in above list\n",
    "\n",
    "sum_of_a = np.sum(a)\n",
    "print(sum_of_a)"
   ]
  },
  {
   "cell_type": "code",
   "execution_count": 82,
   "id": "3fe47850",
   "metadata": {},
   "outputs": [
    {
     "name": "stdout",
     "output_type": "stream",
     "text": [
      "1\n"
     ]
    }
   ],
   "source": [
    "# Exercise 2 - Make a variable named min_of_a to hold the minimum of all the numbers in the above list\n",
    "\n",
    "min_of_a = np.min(a)\n",
    "\n",
    "print(min_of_a)"
   ]
  },
  {
   "cell_type": "code",
   "execution_count": 83,
   "id": "fac75d4e",
   "metadata": {},
   "outputs": [
    {
     "name": "stdout",
     "output_type": "stream",
     "text": [
      "10\n"
     ]
    }
   ],
   "source": [
    "# Exercise 3 - Make a variable named max_of_a to hold the max number of all the numbers in the above list\n",
    "\n",
    "max_of_a = np.max(a)\n",
    "print(max_of_a)"
   ]
  },
  {
   "cell_type": "code",
   "execution_count": 84,
   "id": "c7282915",
   "metadata": {},
   "outputs": [
    {
     "name": "stdout",
     "output_type": "stream",
     "text": [
      "5.5\n"
     ]
    }
   ],
   "source": [
    "# Exercise 4 - Make a variable named mean_of_a to hold the average of all the numbers in the above list\n",
    "mean_of_a = np.mean(a)\n",
    "print(mean_of_a)"
   ]
  },
  {
   "cell_type": "code",
   "execution_count": 85,
   "id": "8d592c41",
   "metadata": {},
   "outputs": [
    {
     "name": "stdout",
     "output_type": "stream",
     "text": [
      "3628800\n"
     ]
    }
   ],
   "source": [
    "# Exercise 5 - Make a variable named product_of_a to hold the product of multiplying all the numbers in the above list together\n",
    "product_of_a = np.product(a)\n",
    "print(product_of_a)\n"
   ]
  },
  {
   "cell_type": "code",
   "execution_count": 80,
   "id": "ae06493f",
   "metadata": {},
   "outputs": [
    {
     "name": "stdout",
     "output_type": "stream",
     "text": [
      "[  1   4   9  16  25  36  49  64  81 100]\n"
     ]
    }
   ],
   "source": [
    "# Exercise 6 - Make a variable named squares_of_a. It should hold each number in a squared like [1, 4, 9, 16, 25...]\n",
    "\n",
    "squares_of_a = np.square(a)\n",
    "print(squares_of_a)\n"
   ]
  },
  {
   "cell_type": "code",
   "execution_count": 78,
   "id": "411a65f9",
   "metadata": {},
   "outputs": [
    {
     "name": "stdout",
     "output_type": "stream",
     "text": [
      "[1 3 5 7 9]\n"
     ]
    }
   ],
   "source": [
    "# Exercise 7 - Make a variable named odds_in_a. It should hold only the odd numbers\n",
    "odds_in_a = a[a%2 !=0]\n",
    "print(odds_in_a)\n"
   ]
  },
  {
   "cell_type": "code",
   "execution_count": 76,
   "id": "66b8f25c",
   "metadata": {},
   "outputs": [
    {
     "name": "stdout",
     "output_type": "stream",
     "text": [
      "[ 2  4  6  8 10]\n"
     ]
    }
   ],
   "source": [
    "# Exercise 8 - Make a variable named evens_in_a. It should hold only the evens.\n",
    "evens_in_a = a[a%2 == 0]\n",
    "print(evens_in_a)"
   ]
  },
  {
   "cell_type": "code",
   "execution_count": 88,
   "id": "7791eeca",
   "metadata": {},
   "outputs": [],
   "source": [
    "# #Setup 2: Consider what it would take to find the sum, min, max, average, sum, product, and list of squares for this list of two lists.\n",
    "b = np.array([\n",
    "    [3, 4, 5],\n",
    "    [6, 7, 8]\n",
    "])"
   ]
  },
  {
   "cell_type": "code",
   "execution_count": 94,
   "id": "0d8988fc",
   "metadata": {},
   "outputs": [
    {
     "name": "stdout",
     "output_type": "stream",
     "text": [
      "33\n"
     ]
    }
   ],
   "source": [
    "# # Exercise 1 - refactor the following to use numpy. Use sum_of_b as the variable. **Hint, you'll first need to make sure that the \"b\" variable is a numpy array**\n",
    "# sum_of_b = 0\n",
    "# for row in b:\n",
    "#     sum_of_b += sum(row)\n",
    "\n",
    "# print(sum_of_b)\n",
    "sum_of_b = np.sum(b)\n",
    "print(sum_of_b)"
   ]
  },
  {
   "cell_type": "code",
   "execution_count": 96,
   "id": "db167e1b",
   "metadata": {},
   "outputs": [
    {
     "name": "stdout",
     "output_type": "stream",
     "text": [
      "3\n"
     ]
    }
   ],
   "source": [
    "# Exercise 2 - refactor the following to use numpy. \n",
    "# min_of_b = min(b[0]) if min(b[0]) <= min(b[1]) else min(b[1])  \n",
    "min_of_b = np.min(b)\n",
    "print(min_of_b)"
   ]
  },
  {
   "cell_type": "code",
   "execution_count": 105,
   "id": "febae17f",
   "metadata": {},
   "outputs": [
    {
     "name": "stdout",
     "output_type": "stream",
     "text": [
      "8\n"
     ]
    }
   ],
   "source": [
    "# # Exercise 3 - refactor the following maximum calculation to find the answer with numpy.\n",
    "# max_of_b = max(b[0]) if max(b[0]) >= max(b[1]) else max(b[1])\n",
    "max_of_b = np.max(b)\n",
    "print(max_of_b)"
   ]
  },
  {
   "cell_type": "code",
   "execution_count": 106,
   "id": "d4870314",
   "metadata": {},
   "outputs": [
    {
     "name": "stdout",
     "output_type": "stream",
     "text": [
      "5.5\n"
     ]
    }
   ],
   "source": [
    "# # Exercise 4 - refactor the following using numpy to find the mean of b\n",
    "# mean_of_b = (sum(b[0]) + sum(b[1])) / (len(b[0]) + len(b[1]))\n",
    "mean_of_b = np.mean(b)\n",
    "print(mean_of_b)"
   ]
  },
  {
   "cell_type": "code",
   "execution_count": 107,
   "id": "5e7f7db7",
   "metadata": {},
   "outputs": [
    {
     "name": "stdout",
     "output_type": "stream",
     "text": [
      "20160\n"
     ]
    }
   ],
   "source": [
    "# # Exercise 5 - refactor the following to use numpy for calculating the product of all numbers multiplied together.\n",
    "# product_of_b = 1\n",
    "# for row in b:\n",
    "#     for number in row:\n",
    "#         product_of_b *= number\n",
    "product_of_b = np.product(b)\n",
    "print(product_of_b)"
   ]
  },
  {
   "cell_type": "code",
   "execution_count": 109,
   "id": "72833c15",
   "metadata": {},
   "outputs": [
    {
     "name": "stdout",
     "output_type": "stream",
     "text": [
      "[[ 9 16 25]\n",
      " [36 49 64]]\n"
     ]
    }
   ],
   "source": [
    "# # Exercise 6 - refactor the following to use numpy to find the list of squares \n",
    "# squares_of_b = []\n",
    "# for row in b:\n",
    "#     for number in row:\n",
    "#         squares_of_b.append(number**2)\n",
    "\n",
    "squares_of_b = np.square(b)\n",
    "print(squares_of_b)"
   ]
  },
  {
   "cell_type": "code",
   "execution_count": 110,
   "id": "250c5a0f",
   "metadata": {},
   "outputs": [
    {
     "name": "stdout",
     "output_type": "stream",
     "text": [
      "[3 5 7]\n"
     ]
    }
   ],
   "source": [
    "# # Exercise 7 - refactor using numpy to determine the odds_in_b\n",
    "# odds_in_b = []\n",
    "# for row in b:\n",
    "#     for number in row:\n",
    "#         if(number % 2 != 0):\n",
    "#             odds_in_b.append(number)\n",
    "odds_in_b = b[b%2 != 0]\n",
    "print(odds_in_b)"
   ]
  },
  {
   "cell_type": "code",
   "execution_count": 111,
   "id": "8a8b6eba",
   "metadata": {},
   "outputs": [
    {
     "name": "stdout",
     "output_type": "stream",
     "text": [
      "[4 6 8]\n"
     ]
    }
   ],
   "source": [
    "#  Exercise 8 - refactor the following to use numpy to filter only the even numbers\n",
    "# evens_in_b = []\n",
    "# for row in b:\n",
    "#     for number in row:\n",
    "#         if(number % 2 == 0):\n",
    "#             evens_in_b.append(number)\n",
    "\n",
    "evens_in_b = b[b%2 ==0]\n",
    "print(evens_in_b )"
   ]
  },
  {
   "cell_type": "code",
   "execution_count": 103,
   "id": "97387b59",
   "metadata": {},
   "outputs": [
    {
     "name": "stdout",
     "output_type": "stream",
     "text": [
      "(2, 3)\n"
     ]
    }
   ],
   "source": [
    "# Exercise 9 - print out the shape of the array b.\n",
    "print(b.shape)\n"
   ]
  },
  {
   "cell_type": "code",
   "execution_count": 100,
   "id": "faccc430",
   "metadata": {},
   "outputs": [
    {
     "name": "stdout",
     "output_type": "stream",
     "text": [
      "[[3 6]\n",
      " [4 7]\n",
      " [5 8]]\n"
     ]
    }
   ],
   "source": [
    "# Exercise 10 - transpose the array b.\n",
    "transpose_b = np.transpose(b)\n",
    "print(transpose_b)\n"
   ]
  },
  {
   "cell_type": "code",
   "execution_count": 99,
   "id": "927498c2",
   "metadata": {},
   "outputs": [
    {
     "name": "stdout",
     "output_type": "stream",
     "text": [
      "[[3 4 5 6 7 8]]\n"
     ]
    }
   ],
   "source": [
    "# Exercise 11 - reshape the array b to be a single list of 6 numbers. (1 x 6)\n",
    "\n",
    "single_array = np.reshape(b,(1,6))\n",
    "print(single_array)\n",
    "\n",
    "\n"
   ]
  },
  {
   "cell_type": "code",
   "execution_count": 98,
   "id": "8c8607bd",
   "metadata": {},
   "outputs": [
    {
     "name": "stdout",
     "output_type": "stream",
     "text": [
      "[[3]\n",
      " [4]\n",
      " [5]\n",
      " [6]\n",
      " [7]\n",
      " [8]]\n"
     ]
    }
   ],
   "source": [
    "# Exercise 12 - reshape the array b to be a list of 6 lists, each containing only 1 number (6 x 1)\n",
    "new_array = np.reshape(b,(6,1))\n",
    "print(new_array)"
   ]
  },
  {
   "cell_type": "code",
   "execution_count": null,
   "id": "2c2a1000",
   "metadata": {},
   "outputs": [],
   "source": [
    "## Setup 3\n",
    "c = [\n",
    "    [1, 2, 3],\n",
    "    [4, 5, 6],\n",
    "    [7, 8, 9]\n",
    "]"
   ]
  },
  {
   "cell_type": "code",
   "execution_count": 140,
   "id": "cf9eb115",
   "metadata": {},
   "outputs": [],
   "source": [
    "# SETUP 3\n",
    "\n",
    "import numpy as np\n",
    "\n",
    "c = np.array([\n",
    "    [1, 2, 3],\n",
    "    [4, 5, 6],\n",
    "    [7, 8, 9]\n",
    "])"
   ]
  },
  {
   "cell_type": "code",
   "execution_count": 113,
   "id": "540e1ff6",
   "metadata": {},
   "outputs": [
    {
     "data": {
      "text/plain": [
       "(1, 9, 45, 362880)"
      ]
     },
     "execution_count": 113,
     "metadata": {},
     "output_type": "execute_result"
    }
   ],
   "source": [
    "# Exercise 1 - Find the min, max, sum, and product of c.\n",
    "np.min(c), np.max(c), np.sum(c), np.product(c)\n",
    "\n"
   ]
  },
  {
   "cell_type": "code",
   "execution_count": 119,
   "id": "03551d7a",
   "metadata": {},
   "outputs": [
    {
     "data": {
      "text/plain": [
       "2.581988897471611"
      ]
     },
     "execution_count": 119,
     "metadata": {},
     "output_type": "execute_result"
    }
   ],
   "source": [
    "# Exercise 2 - Determine the standard deviation of c.\n",
    "\n",
    "np.std(c)"
   ]
  },
  {
   "cell_type": "code",
   "execution_count": 120,
   "id": "17ef0563",
   "metadata": {},
   "outputs": [
    {
     "data": {
      "text/plain": [
       "2.9166666666666665"
      ]
     },
     "execution_count": 120,
     "metadata": {},
     "output_type": "execute_result"
    }
   ],
   "source": [
    "# Exercise 3 - Determine the variance of c.\n",
    "\n",
    "np.var(b)\n"
   ]
  },
  {
   "cell_type": "code",
   "execution_count": 115,
   "id": "0d6cc37e",
   "metadata": {},
   "outputs": [
    {
     "name": "stdout",
     "output_type": "stream",
     "text": [
      "(3, 3)\n"
     ]
    }
   ],
   "source": [
    "# Exercise 4 - Print out the shape of the array c\n",
    "print(c.shape)\n",
    "\n",
    "\n"
   ]
  },
  {
   "cell_type": "code",
   "execution_count": 123,
   "id": "cbc62bb6",
   "metadata": {},
   "outputs": [
    {
     "name": "stdout",
     "output_type": "stream",
     "text": [
      "[[1 4 7]\n",
      " [2 5 8]\n",
      " [3 6 9]]\n"
     ]
    }
   ],
   "source": [
    "# Exercise 5 - Transpose c and print out transposed result.\n",
    "\n",
    "transpose_c = np.transpose(c)\n",
    "print(transpose_c)"
   ]
  },
  {
   "cell_type": "code",
   "execution_count": 141,
   "id": "5753678c",
   "metadata": {},
   "outputs": [
    {
     "data": {
      "text/plain": [
       "array([[ 30,  36,  42],\n",
       "       [ 66,  81,  96],\n",
       "       [102, 126, 150]])"
      ]
     },
     "execution_count": 141,
     "metadata": {},
     "output_type": "execute_result"
    }
   ],
   "source": [
    "# Exercise 6 - Get the dot product of the array c with c. \n",
    "\n",
    "c.dot(c)"
   ]
  },
  {
   "cell_type": "code",
   "execution_count": 134,
   "id": "cfebc044",
   "metadata": {},
   "outputs": [
    {
     "data": {
      "text/plain": [
       "261"
      ]
     },
     "execution_count": 134,
     "metadata": {},
     "output_type": "execute_result"
    }
   ],
   "source": [
    "# Exercise 7 - Write the code necessary to sum up the result of c times c transposed. Answer should be 261\n",
    "\n",
    "np.sum(c *(transpose_c))\n"
   ]
  },
  {
   "cell_type": "code",
   "execution_count": 135,
   "id": "a52cdaa3",
   "metadata": {},
   "outputs": [
    {
     "data": {
      "text/plain": [
       "131681894400"
      ]
     },
     "execution_count": 135,
     "metadata": {},
     "output_type": "execute_result"
    }
   ],
   "source": [
    "# Exercise 8 - Write the code necessary to determine the product of c times c transposed. Answer should be 131681894400.\n",
    "\n",
    "np.product(c *(transpose_c))"
   ]
  },
  {
   "cell_type": "code",
   "execution_count": null,
   "id": "abdd0377",
   "metadata": {},
   "outputs": [],
   "source": [
    "# ## Setup 4\n",
    "# d = [\n",
    "#     [90, 30, 45, 0, 120, 180],\n",
    "#     [45, -90, -30, 270, 90, 0],\n",
    "#     [60, 45, -45, 90, -45, 180]\n",
    "# ]"
   ]
  },
  {
   "cell_type": "code",
   "execution_count": 142,
   "id": "daecb939",
   "metadata": {},
   "outputs": [],
   "source": [
    "import numpy as np\n",
    "\n",
    "d = np.array([\n",
    "    [90, 30, 45, 0, 120, 180],\n",
    "    [45, -90, -30, 270, 90, 0],\n",
    "    [60, 45, -45, 90, -45, 180]\n",
    "])"
   ]
  },
  {
   "cell_type": "code",
   "execution_count": 143,
   "id": "60b652d4",
   "metadata": {},
   "outputs": [
    {
     "data": {
      "text/plain": [
       "array([[ 0.89399666, -0.98803162,  0.85090352,  0.        ,  0.58061118,\n",
       "        -0.80115264],\n",
       "       [ 0.85090352, -0.89399666,  0.98803162, -0.17604595,  0.89399666,\n",
       "         0.        ],\n",
       "       [-0.30481062,  0.85090352, -0.85090352,  0.89399666, -0.85090352,\n",
       "        -0.80115264]])"
      ]
     },
     "execution_count": 143,
     "metadata": {},
     "output_type": "execute_result"
    }
   ],
   "source": [
    "# Exercise 1 - Find the sine of all the numbers in d\n",
    "\n",
    "np.sin(d)"
   ]
  },
  {
   "cell_type": "code",
   "execution_count": 144,
   "id": "b4f90dba",
   "metadata": {},
   "outputs": [
    {
     "data": {
      "text/plain": [
       "array([[-0.44807362,  0.15425145,  0.52532199,  1.        ,  0.81418097,\n",
       "        -0.59846007],\n",
       "       [ 0.52532199, -0.44807362,  0.15425145,  0.98438195, -0.44807362,\n",
       "         1.        ],\n",
       "       [-0.95241298,  0.52532199,  0.52532199, -0.44807362,  0.52532199,\n",
       "        -0.59846007]])"
      ]
     },
     "execution_count": 144,
     "metadata": {},
     "output_type": "execute_result"
    }
   ],
   "source": [
    "# Exercise 2 - Find the cosine of all the numbers in d\n",
    "np.cos(d)\n"
   ]
  },
  {
   "cell_type": "code",
   "execution_count": 145,
   "id": "40d723c6",
   "metadata": {},
   "outputs": [
    {
     "data": {
      "text/plain": [
       "array([[-1.99520041, -6.4053312 ,  1.61977519,  0.        ,  0.71312301,\n",
       "         1.33869021],\n",
       "       [ 1.61977519,  1.99520041,  6.4053312 , -0.17883906, -1.99520041,\n",
       "         0.        ],\n",
       "       [ 0.32004039,  1.61977519, -1.61977519, -1.99520041, -1.61977519,\n",
       "         1.33869021]])"
      ]
     },
     "execution_count": 145,
     "metadata": {},
     "output_type": "execute_result"
    }
   ],
   "source": [
    "# Exercise 3 - Find the tangent of all the numbers in d\n",
    "\n",
    "np.tan(d)"
   ]
  },
  {
   "cell_type": "code",
   "execution_count": 146,
   "id": "3d811dad",
   "metadata": {},
   "outputs": [
    {
     "data": {
      "text/plain": [
       "array([-90, -30, -45, -45])"
      ]
     },
     "execution_count": 146,
     "metadata": {},
     "output_type": "execute_result"
    }
   ],
   "source": [
    "# Exercise 4 - Find all the negative numbers in d\n",
    "\n",
    "d[d < 0]"
   ]
  },
  {
   "cell_type": "code",
   "execution_count": 147,
   "id": "beeffd64",
   "metadata": {},
   "outputs": [
    {
     "data": {
      "text/plain": [
       "array([ 90,  30,  45, 120, 180,  45, 270,  90,  60,  45,  90, 180])"
      ]
     },
     "execution_count": 147,
     "metadata": {},
     "output_type": "execute_result"
    }
   ],
   "source": [
    "# Exercise 5 - Find all the positive numbers in d\n",
    "\n",
    "d[d > 0]"
   ]
  },
  {
   "cell_type": "code",
   "execution_count": 153,
   "id": "53f5adf8",
   "metadata": {},
   "outputs": [
    {
     "data": {
      "text/plain": [
       "array([-90, -45, -30,   0,  30,  45,  60,  90, 120, 180, 270])"
      ]
     },
     "execution_count": 153,
     "metadata": {},
     "output_type": "execute_result"
    }
   ],
   "source": [
    "# Exercise 6 - Return an array of only the unique numbers in d.\n",
    "np.unique(d)\n"
   ]
  },
  {
   "cell_type": "code",
   "execution_count": 152,
   "id": "e075ef30",
   "metadata": {},
   "outputs": [
    {
     "data": {
      "text/plain": [
       "11"
      ]
     },
     "execution_count": 152,
     "metadata": {},
     "output_type": "execute_result"
    }
   ],
   "source": [
    "# Exercise 7 - Determine how many unique numbers there are in d.\n",
    "\n",
    "len(np.unique(d))"
   ]
  },
  {
   "cell_type": "code",
   "execution_count": 148,
   "id": "0b739d96",
   "metadata": {},
   "outputs": [
    {
     "name": "stdout",
     "output_type": "stream",
     "text": [
      "(3, 6)\n"
     ]
    }
   ],
   "source": [
    " #Exercise 8 - Print out the shape of d.\n",
    "\n",
    "print(d.shape)"
   ]
  },
  {
   "cell_type": "code",
   "execution_count": 149,
   "id": "7a41772e",
   "metadata": {},
   "outputs": [
    {
     "name": "stdout",
     "output_type": "stream",
     "text": [
      "(6, 3)\n"
     ]
    }
   ],
   "source": [
    "# Exercise 9 - Transpose and then print out the shape of d.\n",
    "\n",
    "T = np.transpose(d)\n",
    "print(T.shape)"
   ]
  },
  {
   "cell_type": "code",
   "execution_count": 151,
   "id": "fb68ec80",
   "metadata": {},
   "outputs": [
    {
     "data": {
      "text/plain": [
       "array([[ 90,  30],\n",
       "       [ 45,   0],\n",
       "       [120, 180],\n",
       "       [ 45, -90],\n",
       "       [-30, 270],\n",
       "       [ 90,   0],\n",
       "       [ 60,  45],\n",
       "       [-45,  90],\n",
       "       [-45, 180]])"
      ]
     },
     "execution_count": 151,
     "metadata": {},
     "output_type": "execute_result"
    }
   ],
   "source": [
    "# Exercise 10 - Reshape d into an array of 9 x 2\n",
    "np.reshape(d,(9,2))\n",
    "\n"
   ]
  },
  {
   "cell_type": "code",
   "execution_count": null,
   "id": "a3c17585",
   "metadata": {},
   "outputs": [],
   "source": []
  }
 ],
 "metadata": {
  "kernelspec": {
   "display_name": "Python 3 (ipykernel)",
   "language": "python",
   "name": "python3"
  },
  "language_info": {
   "codemirror_mode": {
    "name": "ipython",
    "version": 3
   },
   "file_extension": ".py",
   "mimetype": "text/x-python",
   "name": "python",
   "nbconvert_exporter": "python",
   "pygments_lexer": "ipython3",
   "version": "3.9.12"
  }
 },
 "nbformat": 4,
 "nbformat_minor": 5
}
